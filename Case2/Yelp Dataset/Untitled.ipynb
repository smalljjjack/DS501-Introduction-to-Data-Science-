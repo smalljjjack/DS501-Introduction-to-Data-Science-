{
 "cells": [
  {
   "cell_type": "code",
   "execution_count": null,
   "metadata": {
    "collapsed": true
   },
   "outputs": [],
   "source": [
    "from yelp.client import Client\n",
    "from yelp.oauth1_authenticator import Oauth1Authenticator\n",
    "\n",
    "CONSUMER_KEY = 'aFU9Unr7b5Z9EYZzdUoG-w'\n",
    "CONSUMER_SECRET = '4YP7fQZNt20FtayojbrNeWhFZes'\n",
    "TOKEN = 'Y3EwaElLgdNqaldbrxkxXVJxmQ3cH8Ub'\n",
    "TOKEN_SECRET = 'DAWwdVm_pmIBV7f9MW2z8zZfypQ'\n",
    "\n",
    "def loginClientAPI():\n",
    "    auth = Oauth1Authenticator( consumer_key=CONSUMER_KEY, consumer_secret=CONSUMER_SECRET, token=TOKEN, token_secret=TOKEN_SECRET)\n",
    "    return Client(auth)\n",
    "\n",
    "client = loginClientAPI()\n",
    "\n",
    "def get_"
   ]
  }
 ],
 "metadata": {
  "kernelspec": {
   "display_name": "Python [default]",
   "language": "python",
   "name": "python2"
  }
 },
 "nbformat": 4,
 "nbformat_minor": 1
}
